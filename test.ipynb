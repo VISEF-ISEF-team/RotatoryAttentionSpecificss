{
 "cells": [
  {
   "cell_type": "code",
   "execution_count": 2,
   "metadata": {},
   "outputs": [],
   "source": [
    "import torch \n",
    "import numpy as np "
   ]
  },
  {
   "cell_type": "code",
   "execution_count": 3,
   "metadata": {},
   "outputs": [],
   "source": [
    "a = np.array([1, 2, 3, 1, 2, 1, 1, 3])\n",
    "pred = np.array([1, 2, 1, 1, 2, 1, 1, 3])"
   ]
  },
  {
   "cell_type": "code",
   "execution_count": 4,
   "metadata": {},
   "outputs": [],
   "source": [
    "def dice_score(y, y_pred):\n",
    "    intersection = (y * y_pred).sum()\n",
    "    smooth = 1e-7\n",
    "    dice = (2. * intersection + smooth) / (y.sum() + y_pred.sum() + smooth)\n",
    "\n",
    "    return dice"
   ]
  },
  {
   "cell_type": "code",
   "execution_count": 5,
   "metadata": {},
   "outputs": [
    {
     "name": "stdout",
     "output_type": "stream",
     "text": [
      "0.8888888901234567\n",
      "1.0\n",
      "0.6666666777777774\n"
     ]
    }
   ],
   "source": [
    "dice_list = []\n",
    "\n",
    "for i in range(1, 4, 1): \n",
    "    y_bin = np.where(a == i, 1, 0) \n",
    "    pred_bin = np.where(pred == i, 1, 0) \n",
    "\n",
    "    dsc = dice_score(y_bin, pred_bin) \n",
    "\n",
    "\n",
    "    dice_list.append(dsc) \n",
    "    print(dsc)\n",
    "    \n"
   ]
  },
  {
   "cell_type": "code",
   "execution_count": 6,
   "metadata": {},
   "outputs": [
    {
     "name": "stdout",
     "output_type": "stream",
     "text": [
      "torch.Size([1, 12, 256, 256])\n",
      "torch.Size([1, 256, 256])\n"
     ]
    }
   ],
   "source": [
    "a = torch.randn(1, 12, 256, 256) \n",
    "\n",
    "b = a.argmax(dim=1) \n",
    "\n",
    "print(a.shape) \n",
    "print(b.shape)"
   ]
  }
 ],
 "metadata": {
  "kernelspec": {
   "display_name": "pyt",
   "language": "python",
   "name": "python3"
  },
  "language_info": {
   "codemirror_mode": {
    "name": "ipython",
    "version": 3
   },
   "file_extension": ".py",
   "mimetype": "text/x-python",
   "name": "python",
   "nbconvert_exporter": "python",
   "pygments_lexer": "ipython3",
   "version": "3.9.0"
  }
 },
 "nbformat": 4,
 "nbformat_minor": 2
}
